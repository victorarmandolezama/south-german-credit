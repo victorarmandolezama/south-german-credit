{
 "cells": [
  {
   "cell_type": "code",
   "execution_count": 1,
   "metadata": {},
   "outputs": [],
   "source": [
    "from main_functions import create_data, generate_synthetic_variables"
   ]
  },
  {
   "cell_type": "code",
   "execution_count": 2,
   "metadata": {},
   "outputs": [],
   "source": [
    "data = create_data()"
   ]
  },
  {
   "cell_type": "code",
   "execution_count": 3,
   "metadata": {},
   "outputs": [
    {
     "data": {
      "text/html": [
       "<div>\n",
       "<style scoped>\n",
       "    .dataframe tbody tr th:only-of-type {\n",
       "        vertical-align: middle;\n",
       "    }\n",
       "\n",
       "    .dataframe tbody tr th {\n",
       "        vertical-align: top;\n",
       "    }\n",
       "\n",
       "    .dataframe thead th {\n",
       "        text-align: right;\n",
       "    }\n",
       "</style>\n",
       "<table border=\"1\" class=\"dataframe\">\n",
       "  <thead>\n",
       "    <tr style=\"text-align: right;\">\n",
       "      <th></th>\n",
       "      <th>status</th>\n",
       "      <th>duration</th>\n",
       "      <th>credit_history</th>\n",
       "      <th>purpose</th>\n",
       "      <th>amount</th>\n",
       "      <th>savings</th>\n",
       "      <th>employment_duration</th>\n",
       "      <th>installment_rate</th>\n",
       "      <th>personal_status_sex</th>\n",
       "      <th>other_debtors</th>\n",
       "      <th>...</th>\n",
       "      <th>property</th>\n",
       "      <th>age</th>\n",
       "      <th>other_installment_plans</th>\n",
       "      <th>housing</th>\n",
       "      <th>number_credits</th>\n",
       "      <th>job</th>\n",
       "      <th>people_liable</th>\n",
       "      <th>telephone</th>\n",
       "      <th>foreign_worker</th>\n",
       "      <th>credit_risk</th>\n",
       "    </tr>\n",
       "  </thead>\n",
       "  <tbody>\n",
       "    <tr>\n",
       "      <th>0</th>\n",
       "      <td>1</td>\n",
       "      <td>18</td>\n",
       "      <td>4</td>\n",
       "      <td>2</td>\n",
       "      <td>1049.0</td>\n",
       "      <td>1</td>\n",
       "      <td>2</td>\n",
       "      <td>4</td>\n",
       "      <td>2</td>\n",
       "      <td>1</td>\n",
       "      <td>...</td>\n",
       "      <td>2</td>\n",
       "      <td>21</td>\n",
       "      <td>3</td>\n",
       "      <td>1</td>\n",
       "      <td>1</td>\n",
       "      <td>3</td>\n",
       "      <td>2</td>\n",
       "      <td>1</td>\n",
       "      <td>2</td>\n",
       "      <td>1</td>\n",
       "    </tr>\n",
       "    <tr>\n",
       "      <th>1</th>\n",
       "      <td>1</td>\n",
       "      <td>9</td>\n",
       "      <td>4</td>\n",
       "      <td>0</td>\n",
       "      <td>2799.0</td>\n",
       "      <td>1</td>\n",
       "      <td>3</td>\n",
       "      <td>2</td>\n",
       "      <td>3</td>\n",
       "      <td>1</td>\n",
       "      <td>...</td>\n",
       "      <td>1</td>\n",
       "      <td>36</td>\n",
       "      <td>3</td>\n",
       "      <td>1</td>\n",
       "      <td>2</td>\n",
       "      <td>3</td>\n",
       "      <td>1</td>\n",
       "      <td>1</td>\n",
       "      <td>2</td>\n",
       "      <td>1</td>\n",
       "    </tr>\n",
       "    <tr>\n",
       "      <th>2</th>\n",
       "      <td>2</td>\n",
       "      <td>12</td>\n",
       "      <td>2</td>\n",
       "      <td>9</td>\n",
       "      <td>841.0</td>\n",
       "      <td>2</td>\n",
       "      <td>4</td>\n",
       "      <td>2</td>\n",
       "      <td>2</td>\n",
       "      <td>1</td>\n",
       "      <td>...</td>\n",
       "      <td>1</td>\n",
       "      <td>23</td>\n",
       "      <td>3</td>\n",
       "      <td>1</td>\n",
       "      <td>1</td>\n",
       "      <td>2</td>\n",
       "      <td>2</td>\n",
       "      <td>1</td>\n",
       "      <td>2</td>\n",
       "      <td>1</td>\n",
       "    </tr>\n",
       "    <tr>\n",
       "      <th>3</th>\n",
       "      <td>1</td>\n",
       "      <td>12</td>\n",
       "      <td>4</td>\n",
       "      <td>0</td>\n",
       "      <td>2122.0</td>\n",
       "      <td>1</td>\n",
       "      <td>3</td>\n",
       "      <td>3</td>\n",
       "      <td>3</td>\n",
       "      <td>1</td>\n",
       "      <td>...</td>\n",
       "      <td>1</td>\n",
       "      <td>39</td>\n",
       "      <td>3</td>\n",
       "      <td>1</td>\n",
       "      <td>2</td>\n",
       "      <td>2</td>\n",
       "      <td>1</td>\n",
       "      <td>1</td>\n",
       "      <td>1</td>\n",
       "      <td>1</td>\n",
       "    </tr>\n",
       "    <tr>\n",
       "      <th>4</th>\n",
       "      <td>1</td>\n",
       "      <td>12</td>\n",
       "      <td>4</td>\n",
       "      <td>0</td>\n",
       "      <td>2171.0</td>\n",
       "      <td>1</td>\n",
       "      <td>3</td>\n",
       "      <td>4</td>\n",
       "      <td>3</td>\n",
       "      <td>1</td>\n",
       "      <td>...</td>\n",
       "      <td>2</td>\n",
       "      <td>38</td>\n",
       "      <td>1</td>\n",
       "      <td>2</td>\n",
       "      <td>2</td>\n",
       "      <td>2</td>\n",
       "      <td>2</td>\n",
       "      <td>1</td>\n",
       "      <td>1</td>\n",
       "      <td>1</td>\n",
       "    </tr>\n",
       "  </tbody>\n",
       "</table>\n",
       "<p>5 rows × 21 columns</p>\n",
       "</div>"
      ],
      "text/plain": [
       "  status  duration credit_history purpose  amount savings employment_duration  \\\n",
       "0      1        18              4       2  1049.0       1                   2   \n",
       "1      1         9              4       0  2799.0       1                   3   \n",
       "2      2        12              2       9   841.0       2                   4   \n",
       "3      1        12              4       0  2122.0       1                   3   \n",
       "4      1        12              4       0  2171.0       1                   3   \n",
       "\n",
       "  installment_rate personal_status_sex other_debtors  ... property age  \\\n",
       "0                4                   2             1  ...        2  21   \n",
       "1                2                   3             1  ...        1  36   \n",
       "2                2                   2             1  ...        1  23   \n",
       "3                3                   3             1  ...        1  39   \n",
       "4                4                   3             1  ...        2  38   \n",
       "\n",
       "   other_installment_plans housing number_credits job people_liable telephone  \\\n",
       "0                        3       1              1   3             2         1   \n",
       "1                        3       1              2   3             1         1   \n",
       "2                        3       1              1   2             2         1   \n",
       "3                        3       1              2   2             1         1   \n",
       "4                        1       2              2   2             2         1   \n",
       "\n",
       "  foreign_worker credit_risk  \n",
       "0              2           1  \n",
       "1              2           1  \n",
       "2              2           1  \n",
       "3              1           1  \n",
       "4              1           1  \n",
       "\n",
       "[5 rows x 21 columns]"
      ]
     },
     "execution_count": 3,
     "metadata": {},
     "output_type": "execute_result"
    }
   ],
   "source": [
    "data.head()"
   ]
  },
  {
   "cell_type": "code",
   "execution_count": 4,
   "metadata": {},
   "outputs": [
    {
     "data": {
      "text/plain": [
       "'3'"
      ]
     },
     "execution_count": 4,
     "metadata": {},
     "output_type": "execute_result"
    }
   ],
   "source": [
    "data.job[1]"
   ]
  },
  {
   "cell_type": "code",
   "execution_count": 5,
   "metadata": {},
   "outputs": [],
   "source": [
    "rules = [\n",
    "    # {\n",
    "    #     'name': 'synthetic_var_1',\n",
    "    #     'conditions': [\n",
    "    #         {'col': 'col1', 'values': ['A', 'B']},  # Only OR needed\n",
    "    #         {'col': 'col2', 'values': ['X']}  # Only OR needed\n",
    "    #     ],\n",
    "    #     'operator': 'AND'  # This is still valid for combining conditions\n",
    "    # },\n",
    "    # {\n",
    "    #     'name': 'synthetic_var_2',\n",
    "    #     'conditions': [\n",
    "    #         {'col': 'col2', 'values': ['Y']},  # Only OR needed\n",
    "    #         {'col': 'col3', 'values': ['Yes']}  # Only OR needed\n",
    "    #     ],\n",
    "    #     'operator': 'OR'  # This is still valid for combining conditions\n",
    "    # },\n",
    "\n",
    "    # {\n",
    "    #     'name': 'job__credit_history__class1',\n",
    "    #     'conditions': [\n",
    "    #         {'col': 'job', 'values': ['3', '4']},\n",
    "    #         {'col': 'credit_history', 'values': ['2', '3', '4']}\n",
    "    #     ],\n",
    "    #     'operator': 'AND'\n",
    "    # },\n",
    "    {\n",
    "        'name': 'job__credit_history__class2', ##Low quality jobs and good credit history\n",
    "        'conditions': [\n",
    "            {'col': 'job', 'values': ['1', '2']},\n",
    "            {'col': 'credit_history', 'values': ['2', '3', '4']}\n",
    "        ],\n",
    "        'operator': 'AND'\n",
    "    },\n",
    "    {\n",
    "        'name': 'status__class1', #Has or not a checking accountx\n",
    "        'conditions': [\n",
    "            {'col': 'status', 'values': ['2', '3', '4']}\n",
    "        ],\n",
    "        'operator': 'AND'\n",
    "    },\n",
    "    # {\n",
    "    #     'name': 'status__job__class1',\n",
    "    #     'conditions': [\n",
    "    #         {'col': 'job', 'values': ['1', '2']},\n",
    "    #         {'col': 'status', 'values': ['2', '3', '4']}\n",
    "    #     ],\n",
    "    #     'operator': 'AND'\n",
    "    # },\n",
    "    {\n",
    "        'name': 'status__job__class2', ## High quality jobs and has checking account\n",
    "        'conditions': [\n",
    "            {'col': 'job', 'values': ['3', '4']},\n",
    "            {'col': 'status', 'values': ['2', '3', '4']}\n",
    "        ],\n",
    "        'operator': 'AND'\n",
    "    },\n",
    "    {\n",
    "        'name': 'installment_rate__job__class1', ##High quality jobs and low installment rate\n",
    "        'conditions': [\n",
    "            {'col': 'installment_rate', 'values': ['1', '2']},\n",
    "            {'col': 'job', 'values': ['3', '4']},\n",
    "\n",
    "        ],\n",
    "        'operator': 'AND'\n",
    "    },\n",
    "    {\n",
    "        'name': 'savings__installment_rate__class1', ##High savings and low installment rate\n",
    "        'conditions': [\n",
    "            {'col': 'savings', 'values': ['3', '4', '5']},\n",
    "            {'col': 'installment_rate', 'values': ['1', '2']},\n",
    "        ],\n",
    "        'operator': 'AND'\n",
    "    },\n",
    "    {\n",
    "        'name': 'savings__installment_rate__job__class1', ##High savings and low installment rate and high quality jobs\n",
    "        'conditions': [\n",
    "            {'col': 'savings', 'values': ['3', '4', '5']},\n",
    "            {'col': 'installment_rate', 'values': ['1', '2']},\n",
    "            {'col': 'job', 'values': ['3', '4']},\n",
    "        ],\n",
    "        'operator': 'AND'\n",
    "    },\n",
    "    {\n",
    "        'name': 'employment_duration__installment_rate__class1', ##Low employment duration and low installment rate\n",
    "        'conditions': [\n",
    "            {'col': 'employment_duration', 'values': ['1', '2']},\n",
    "            {'col': 'installment_rate', 'values': ['1', '2']},\n",
    "\n",
    "        ],\n",
    "        'operator': 'AND'\n",
    "    },\n",
    "]\n",
    "\n",
    "synthetic_df = generate_synthetic_variables(data, rules)"
   ]
  },
  {
   "cell_type": "code",
   "execution_count": 6,
   "metadata": {},
   "outputs": [
    {
     "data": {
      "text/html": [
       "<div>\n",
       "<style scoped>\n",
       "    .dataframe tbody tr th:only-of-type {\n",
       "        vertical-align: middle;\n",
       "    }\n",
       "\n",
       "    .dataframe tbody tr th {\n",
       "        vertical-align: top;\n",
       "    }\n",
       "\n",
       "    .dataframe thead th {\n",
       "        text-align: right;\n",
       "    }\n",
       "</style>\n",
       "<table border=\"1\" class=\"dataframe\">\n",
       "  <thead>\n",
       "    <tr style=\"text-align: right;\">\n",
       "      <th></th>\n",
       "      <th>job__credit_history__class2</th>\n",
       "      <th>status__class1</th>\n",
       "      <th>status__job__class2</th>\n",
       "      <th>installment_rate__job__class1</th>\n",
       "      <th>savings__installment_rate__class1</th>\n",
       "      <th>savings__installment_rate__job__class1</th>\n",
       "      <th>employment_duration__installment_rate__class1</th>\n",
       "    </tr>\n",
       "  </thead>\n",
       "  <tbody>\n",
       "    <tr>\n",
       "      <th>count</th>\n",
       "      <td>1000.000000</td>\n",
       "      <td>1000.000000</td>\n",
       "      <td>1000.000000</td>\n",
       "      <td>1000.000000</td>\n",
       "      <td>1000.000000</td>\n",
       "      <td>1000.000000</td>\n",
       "      <td>1000.000000</td>\n",
       "    </tr>\n",
       "    <tr>\n",
       "      <th>mean</th>\n",
       "      <td>0.199000</td>\n",
       "      <td>0.726000</td>\n",
       "      <td>0.569000</td>\n",
       "      <td>0.271000</td>\n",
       "      <td>0.105000</td>\n",
       "      <td>0.074000</td>\n",
       "      <td>0.094000</td>\n",
       "    </tr>\n",
       "    <tr>\n",
       "      <th>std</th>\n",
       "      <td>0.399448</td>\n",
       "      <td>0.446232</td>\n",
       "      <td>0.495464</td>\n",
       "      <td>0.444699</td>\n",
       "      <td>0.306707</td>\n",
       "      <td>0.261902</td>\n",
       "      <td>0.291975</td>\n",
       "    </tr>\n",
       "    <tr>\n",
       "      <th>min</th>\n",
       "      <td>0.000000</td>\n",
       "      <td>0.000000</td>\n",
       "      <td>0.000000</td>\n",
       "      <td>0.000000</td>\n",
       "      <td>0.000000</td>\n",
       "      <td>0.000000</td>\n",
       "      <td>0.000000</td>\n",
       "    </tr>\n",
       "    <tr>\n",
       "      <th>25%</th>\n",
       "      <td>0.000000</td>\n",
       "      <td>0.000000</td>\n",
       "      <td>0.000000</td>\n",
       "      <td>0.000000</td>\n",
       "      <td>0.000000</td>\n",
       "      <td>0.000000</td>\n",
       "      <td>0.000000</td>\n",
       "    </tr>\n",
       "    <tr>\n",
       "      <th>50%</th>\n",
       "      <td>0.000000</td>\n",
       "      <td>1.000000</td>\n",
       "      <td>1.000000</td>\n",
       "      <td>0.000000</td>\n",
       "      <td>0.000000</td>\n",
       "      <td>0.000000</td>\n",
       "      <td>0.000000</td>\n",
       "    </tr>\n",
       "    <tr>\n",
       "      <th>75%</th>\n",
       "      <td>0.000000</td>\n",
       "      <td>1.000000</td>\n",
       "      <td>1.000000</td>\n",
       "      <td>1.000000</td>\n",
       "      <td>0.000000</td>\n",
       "      <td>0.000000</td>\n",
       "      <td>0.000000</td>\n",
       "    </tr>\n",
       "    <tr>\n",
       "      <th>max</th>\n",
       "      <td>1.000000</td>\n",
       "      <td>1.000000</td>\n",
       "      <td>1.000000</td>\n",
       "      <td>1.000000</td>\n",
       "      <td>1.000000</td>\n",
       "      <td>1.000000</td>\n",
       "      <td>1.000000</td>\n",
       "    </tr>\n",
       "  </tbody>\n",
       "</table>\n",
       "</div>"
      ],
      "text/plain": [
       "       job__credit_history__class2  status__class1  status__job__class2  \\\n",
       "count                  1000.000000     1000.000000          1000.000000   \n",
       "mean                      0.199000        0.726000             0.569000   \n",
       "std                       0.399448        0.446232             0.495464   \n",
       "min                       0.000000        0.000000             0.000000   \n",
       "25%                       0.000000        0.000000             0.000000   \n",
       "50%                       0.000000        1.000000             1.000000   \n",
       "75%                       0.000000        1.000000             1.000000   \n",
       "max                       1.000000        1.000000             1.000000   \n",
       "\n",
       "       installment_rate__job__class1  savings__installment_rate__class1  \\\n",
       "count                    1000.000000                        1000.000000   \n",
       "mean                        0.271000                           0.105000   \n",
       "std                         0.444699                           0.306707   \n",
       "min                         0.000000                           0.000000   \n",
       "25%                         0.000000                           0.000000   \n",
       "50%                         0.000000                           0.000000   \n",
       "75%                         1.000000                           0.000000   \n",
       "max                         1.000000                           1.000000   \n",
       "\n",
       "       savings__installment_rate__job__class1  \\\n",
       "count                             1000.000000   \n",
       "mean                                 0.074000   \n",
       "std                                  0.261902   \n",
       "min                                  0.000000   \n",
       "25%                                  0.000000   \n",
       "50%                                  0.000000   \n",
       "75%                                  0.000000   \n",
       "max                                  1.000000   \n",
       "\n",
       "       employment_duration__installment_rate__class1  \n",
       "count                                    1000.000000  \n",
       "mean                                        0.094000  \n",
       "std                                         0.291975  \n",
       "min                                         0.000000  \n",
       "25%                                         0.000000  \n",
       "50%                                         0.000000  \n",
       "75%                                         0.000000  \n",
       "max                                         1.000000  "
      ]
     },
     "execution_count": 6,
     "metadata": {},
     "output_type": "execute_result"
    }
   ],
   "source": [
    "synthetic_df.describe()"
   ]
  },
  {
   "cell_type": "code",
   "execution_count": 7,
   "metadata": {},
   "outputs": [
    {
     "data": {
      "text/plain": [
       "job__credit_history__class2\n",
       "0    801\n",
       "1    199\n",
       "Name: count, dtype: int64"
      ]
     },
     "execution_count": 7,
     "metadata": {},
     "output_type": "execute_result"
    }
   ],
   "source": [
    "synthetic_df.job__credit_history__class2.value_counts()"
   ]
  },
  {
   "cell_type": "code",
   "execution_count": 8,
   "metadata": {},
   "outputs": [
    {
     "data": {
      "text/plain": [
       "status__class1\n",
       "1    726\n",
       "0    274\n",
       "Name: count, dtype: int64"
      ]
     },
     "execution_count": 8,
     "metadata": {},
     "output_type": "execute_result"
    }
   ],
   "source": [
    "synthetic_df.status__class1.value_counts()"
   ]
  },
  {
   "cell_type": "code",
   "execution_count": 9,
   "metadata": {},
   "outputs": [
    {
     "data": {
      "text/plain": [
       "status__job__class2\n",
       "1    569\n",
       "0    431\n",
       "Name: count, dtype: int64"
      ]
     },
     "execution_count": 9,
     "metadata": {},
     "output_type": "execute_result"
    }
   ],
   "source": [
    "synthetic_df.status__job__class2.value_counts()"
   ]
  },
  {
   "cell_type": "code",
   "execution_count": 10,
   "metadata": {},
   "outputs": [
    {
     "data": {
      "text/plain": [
       "installment_rate__job__class1\n",
       "0    729\n",
       "1    271\n",
       "Name: count, dtype: int64"
      ]
     },
     "execution_count": 10,
     "metadata": {},
     "output_type": "execute_result"
    }
   ],
   "source": [
    "synthetic_df.installment_rate__job__class1.value_counts()"
   ]
  },
  {
   "cell_type": "code",
   "execution_count": 11,
   "metadata": {},
   "outputs": [
    {
     "data": {
      "text/plain": [
       "savings__installment_rate__class1\n",
       "0    895\n",
       "1    105\n",
       "Name: count, dtype: int64"
      ]
     },
     "execution_count": 11,
     "metadata": {},
     "output_type": "execute_result"
    }
   ],
   "source": [
    "synthetic_df.savings__installment_rate__class1.value_counts()"
   ]
  },
  {
   "cell_type": "code",
   "execution_count": 12,
   "metadata": {},
   "outputs": [
    {
     "data": {
      "text/plain": [
       "savings__installment_rate__job__class1\n",
       "0    926\n",
       "1     74\n",
       "Name: count, dtype: int64"
      ]
     },
     "execution_count": 12,
     "metadata": {},
     "output_type": "execute_result"
    }
   ],
   "source": [
    "synthetic_df.savings__installment_rate__job__class1.value_counts()"
   ]
  },
  {
   "cell_type": "code",
   "execution_count": 13,
   "metadata": {},
   "outputs": [
    {
     "data": {
      "text/plain": [
       "employment_duration__installment_rate__class1\n",
       "0    906\n",
       "1     94\n",
       "Name: count, dtype: int64"
      ]
     },
     "execution_count": 13,
     "metadata": {},
     "output_type": "execute_result"
    }
   ],
   "source": [
    "synthetic_df.employment_duration__installment_rate__class1.value_counts()"
   ]
  }
 ],
 "metadata": {
  "kernelspec": {
   "display_name": "south-german-credit",
   "language": "python",
   "name": "python3"
  },
  "language_info": {
   "codemirror_mode": {
    "name": "ipython",
    "version": 3
   },
   "file_extension": ".py",
   "mimetype": "text/x-python",
   "name": "python",
   "nbconvert_exporter": "python",
   "pygments_lexer": "ipython3",
   "version": "3.9.20"
  },
  "orig_nbformat": 4
 },
 "nbformat": 4,
 "nbformat_minor": 2
}
