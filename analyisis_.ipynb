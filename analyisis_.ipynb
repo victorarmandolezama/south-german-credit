{
 "cells": [
  {
   "cell_type": "code",
   "execution_count": 38,
   "metadata": {},
   "outputs": [],
   "source": [
    "from main_functions import create_data, generate_synthetic_variables, plot_frequencies, plot_correlation_matrix, create_dummy_variables, find_correlations, filter_data_by_value, cramers_v, chi_squared_test"
   ]
  },
  {
   "cell_type": "code",
   "execution_count": 39,
   "metadata": {},
   "outputs": [],
   "source": [
    "data = create_data()"
   ]
  },
  {
   "cell_type": "code",
   "execution_count": 40,
   "metadata": {},
   "outputs": [
    {
     "data": {
      "text/html": [
       "<div>\n",
       "<style scoped>\n",
       "    .dataframe tbody tr th:only-of-type {\n",
       "        vertical-align: middle;\n",
       "    }\n",
       "\n",
       "    .dataframe tbody tr th {\n",
       "        vertical-align: top;\n",
       "    }\n",
       "\n",
       "    .dataframe thead th {\n",
       "        text-align: right;\n",
       "    }\n",
       "</style>\n",
       "<table border=\"1\" class=\"dataframe\">\n",
       "  <thead>\n",
       "    <tr style=\"text-align: right;\">\n",
       "      <th></th>\n",
       "      <th>status</th>\n",
       "      <th>duration</th>\n",
       "      <th>credit_history</th>\n",
       "      <th>purpose</th>\n",
       "      <th>amount</th>\n",
       "      <th>savings</th>\n",
       "      <th>employment_duration</th>\n",
       "      <th>installment_rate</th>\n",
       "      <th>personal_status_sex</th>\n",
       "      <th>other_debtors</th>\n",
       "      <th>...</th>\n",
       "      <th>property</th>\n",
       "      <th>age</th>\n",
       "      <th>other_installment_plans</th>\n",
       "      <th>housing</th>\n",
       "      <th>number_credits</th>\n",
       "      <th>job</th>\n",
       "      <th>people_liable</th>\n",
       "      <th>telephone</th>\n",
       "      <th>foreign_worker</th>\n",
       "      <th>credit_risk</th>\n",
       "    </tr>\n",
       "  </thead>\n",
       "  <tbody>\n",
       "    <tr>\n",
       "      <th>0</th>\n",
       "      <td>1</td>\n",
       "      <td>18</td>\n",
       "      <td>4</td>\n",
       "      <td>2</td>\n",
       "      <td>1049.0</td>\n",
       "      <td>1</td>\n",
       "      <td>2</td>\n",
       "      <td>4</td>\n",
       "      <td>2</td>\n",
       "      <td>1</td>\n",
       "      <td>...</td>\n",
       "      <td>2</td>\n",
       "      <td>21</td>\n",
       "      <td>3</td>\n",
       "      <td>1</td>\n",
       "      <td>1</td>\n",
       "      <td>3</td>\n",
       "      <td>2</td>\n",
       "      <td>1</td>\n",
       "      <td>2</td>\n",
       "      <td>1</td>\n",
       "    </tr>\n",
       "    <tr>\n",
       "      <th>1</th>\n",
       "      <td>1</td>\n",
       "      <td>9</td>\n",
       "      <td>4</td>\n",
       "      <td>0</td>\n",
       "      <td>2799.0</td>\n",
       "      <td>1</td>\n",
       "      <td>3</td>\n",
       "      <td>2</td>\n",
       "      <td>3</td>\n",
       "      <td>1</td>\n",
       "      <td>...</td>\n",
       "      <td>1</td>\n",
       "      <td>36</td>\n",
       "      <td>3</td>\n",
       "      <td>1</td>\n",
       "      <td>2</td>\n",
       "      <td>3</td>\n",
       "      <td>1</td>\n",
       "      <td>1</td>\n",
       "      <td>2</td>\n",
       "      <td>1</td>\n",
       "    </tr>\n",
       "    <tr>\n",
       "      <th>2</th>\n",
       "      <td>2</td>\n",
       "      <td>12</td>\n",
       "      <td>2</td>\n",
       "      <td>9</td>\n",
       "      <td>841.0</td>\n",
       "      <td>2</td>\n",
       "      <td>4</td>\n",
       "      <td>2</td>\n",
       "      <td>2</td>\n",
       "      <td>1</td>\n",
       "      <td>...</td>\n",
       "      <td>1</td>\n",
       "      <td>23</td>\n",
       "      <td>3</td>\n",
       "      <td>1</td>\n",
       "      <td>1</td>\n",
       "      <td>2</td>\n",
       "      <td>2</td>\n",
       "      <td>1</td>\n",
       "      <td>2</td>\n",
       "      <td>1</td>\n",
       "    </tr>\n",
       "    <tr>\n",
       "      <th>3</th>\n",
       "      <td>1</td>\n",
       "      <td>12</td>\n",
       "      <td>4</td>\n",
       "      <td>0</td>\n",
       "      <td>2122.0</td>\n",
       "      <td>1</td>\n",
       "      <td>3</td>\n",
       "      <td>3</td>\n",
       "      <td>3</td>\n",
       "      <td>1</td>\n",
       "      <td>...</td>\n",
       "      <td>1</td>\n",
       "      <td>39</td>\n",
       "      <td>3</td>\n",
       "      <td>1</td>\n",
       "      <td>2</td>\n",
       "      <td>2</td>\n",
       "      <td>1</td>\n",
       "      <td>1</td>\n",
       "      <td>1</td>\n",
       "      <td>1</td>\n",
       "    </tr>\n",
       "    <tr>\n",
       "      <th>4</th>\n",
       "      <td>1</td>\n",
       "      <td>12</td>\n",
       "      <td>4</td>\n",
       "      <td>0</td>\n",
       "      <td>2171.0</td>\n",
       "      <td>1</td>\n",
       "      <td>3</td>\n",
       "      <td>4</td>\n",
       "      <td>3</td>\n",
       "      <td>1</td>\n",
       "      <td>...</td>\n",
       "      <td>2</td>\n",
       "      <td>38</td>\n",
       "      <td>1</td>\n",
       "      <td>2</td>\n",
       "      <td>2</td>\n",
       "      <td>2</td>\n",
       "      <td>2</td>\n",
       "      <td>1</td>\n",
       "      <td>1</td>\n",
       "      <td>1</td>\n",
       "    </tr>\n",
       "  </tbody>\n",
       "</table>\n",
       "<p>5 rows × 21 columns</p>\n",
       "</div>"
      ],
      "text/plain": [
       "  status  duration credit_history purpose  amount savings employment_duration  \\\n",
       "0      1        18              4       2  1049.0       1                   2   \n",
       "1      1         9              4       0  2799.0       1                   3   \n",
       "2      2        12              2       9   841.0       2                   4   \n",
       "3      1        12              4       0  2122.0       1                   3   \n",
       "4      1        12              4       0  2171.0       1                   3   \n",
       "\n",
       "  installment_rate personal_status_sex other_debtors  ... property age  \\\n",
       "0                4                   2             1  ...        2  21   \n",
       "1                2                   3             1  ...        1  36   \n",
       "2                2                   2             1  ...        1  23   \n",
       "3                3                   3             1  ...        1  39   \n",
       "4                4                   3             1  ...        2  38   \n",
       "\n",
       "   other_installment_plans housing number_credits job people_liable telephone  \\\n",
       "0                        3       1              1   3             2         1   \n",
       "1                        3       1              2   3             1         1   \n",
       "2                        3       1              1   2             2         1   \n",
       "3                        3       1              2   2             1         1   \n",
       "4                        1       2              2   2             2         1   \n",
       "\n",
       "  foreign_worker credit_risk  \n",
       "0              2           1  \n",
       "1              2           1  \n",
       "2              2           1  \n",
       "3              1           1  \n",
       "4              1           1  \n",
       "\n",
       "[5 rows x 21 columns]"
      ]
     },
     "execution_count": 40,
     "metadata": {},
     "output_type": "execute_result"
    }
   ],
   "source": [
    "data.head()"
   ]
  },
  {
   "cell_type": "code",
   "execution_count": 41,
   "metadata": {},
   "outputs": [
    {
     "data": {
      "text/plain": [
       "'3'"
      ]
     },
     "execution_count": 41,
     "metadata": {},
     "output_type": "execute_result"
    }
   ],
   "source": [
    "data.job[1]"
   ]
  },
  {
   "cell_type": "code",
   "execution_count": 42,
   "metadata": {},
   "outputs": [],
   "source": [
    "rules = [\n",
    "    # {\n",
    "    #     'name': 'synthetic_var_1',\n",
    "    #     'conditions': [\n",
    "    #         {'col': 'col1', 'values': ['A', 'B']},  # Only OR needed\n",
    "    #         {'col': 'col2', 'values': ['X']}  # Only OR needed\n",
    "    #     ],\n",
    "    #     'operator': 'AND'  # This is still valid for combining conditions\n",
    "    # },\n",
    "    # {\n",
    "    #     'name': 'synthetic_var_2',\n",
    "    #     'conditions': [\n",
    "    #         {'col': 'col2', 'values': ['Y']},  # Only OR needed\n",
    "    #         {'col': 'col3', 'values': ['Yes']}  # Only OR needed\n",
    "    #     ],\n",
    "    #     'operator': 'OR'  # This is still valid for combining conditions\n",
    "    # },\n",
    "\n",
    "    # {\n",
    "    #     'name': 'job__credit_history__class1',\n",
    "    #     'conditions': [\n",
    "    #         {'col': 'job', 'values': ['3', '4']},\n",
    "    #         {'col': 'credit_history', 'values': ['2', '3', '4']}\n",
    "    #     ],\n",
    "    #     'operator': 'AND'\n",
    "    # },\n",
    "    {\n",
    "        'name': 'job__credit_history__class2', ##Low quality jobs and good credit history\n",
    "        'conditions': [\n",
    "            {'col': 'job', 'values': ['1', '2']},\n",
    "            {'col': 'credit_history', 'values': ['2', '3', '4']}\n",
    "        ],\n",
    "        'operator': 'AND'\n",
    "    },\n",
    "    {\n",
    "        'name': 'status__class1', #Has or not a checking accountx\n",
    "        'conditions': [\n",
    "            {'col': 'status', 'values': ['2', '3', '4']}\n",
    "        ],\n",
    "        'operator': 'AND'\n",
    "    },\n",
    "    # {\n",
    "    #     'name': 'status__job__class1',\n",
    "    #     'conditions': [\n",
    "    #         {'col': 'job', 'values': ['1', '2']},\n",
    "    #         {'col': 'status', 'values': ['2', '3', '4']}\n",
    "    #     ],\n",
    "    #     'operator': 'AND'\n",
    "    # },\n",
    "    {\n",
    "        'name': 'status__job__class2', ## High quality jobs and has checking account\n",
    "        'conditions': [\n",
    "            {'col': 'job', 'values': ['3', '4']},\n",
    "            {'col': 'status', 'values': ['2', '3', '4']}\n",
    "        ],\n",
    "        'operator': 'AND'\n",
    "    },\n",
    "    {\n",
    "        'name': 'installment_rate__job__class1', ##High quality jobs and low installment rate\n",
    "        'conditions': [\n",
    "            {'col': 'installment_rate', 'values': ['1', '2']},\n",
    "            {'col': 'job', 'values': ['3', '4']},\n",
    "\n",
    "        ],\n",
    "        'operator': 'AND'\n",
    "    },\n",
    "    {\n",
    "        'name': 'savings__installment_rate__class1', ##High savings and low installment rate\n",
    "        'conditions': [\n",
    "            {'col': 'savings', 'values': ['3', '4', '5']},\n",
    "            {'col': 'installment_rate', 'values': ['1', '2']},\n",
    "        ],\n",
    "        'operator': 'AND'\n",
    "    },\n",
    "    {\n",
    "        'name': 'savings__installment_rate__job__class1', ##High savings and low installment rate and high quality jobs\n",
    "        'conditions': [\n",
    "            {'col': 'savings', 'values': ['3', '4', '5']},\n",
    "            {'col': 'installment_rate', 'values': ['1', '2']},\n",
    "            {'col': 'job', 'values': ['3', '4']},\n",
    "        ],\n",
    "        'operator': 'AND'\n",
    "    },\n",
    "    {\n",
    "        'name': 'employment_duration__installment_rate__class1', ##Low employment duration and low installment rate\n",
    "        'conditions': [\n",
    "            {'col': 'employment_duration', 'values': ['1', '2']},\n",
    "            {'col': 'installment_rate', 'values': ['1', '2']},\n",
    "\n",
    "        ],\n",
    "        'operator': 'AND'\n",
    "    },\n",
    "]\n",
    "\n",
    "synthetic_df = generate_synthetic_variables(data, rules)"
   ]
  },
  {
   "cell_type": "code",
   "execution_count": 43,
   "metadata": {},
   "outputs": [
    {
     "data": {
      "text/html": [
       "<div>\n",
       "<style scoped>\n",
       "    .dataframe tbody tr th:only-of-type {\n",
       "        vertical-align: middle;\n",
       "    }\n",
       "\n",
       "    .dataframe tbody tr th {\n",
       "        vertical-align: top;\n",
       "    }\n",
       "\n",
       "    .dataframe thead th {\n",
       "        text-align: right;\n",
       "    }\n",
       "</style>\n",
       "<table border=\"1\" class=\"dataframe\">\n",
       "  <thead>\n",
       "    <tr style=\"text-align: right;\">\n",
       "      <th></th>\n",
       "      <th>job__credit_history__class2</th>\n",
       "      <th>status__class1</th>\n",
       "      <th>status__job__class2</th>\n",
       "      <th>installment_rate__job__class1</th>\n",
       "      <th>savings__installment_rate__class1</th>\n",
       "      <th>savings__installment_rate__job__class1</th>\n",
       "      <th>employment_duration__installment_rate__class1</th>\n",
       "    </tr>\n",
       "  </thead>\n",
       "  <tbody>\n",
       "    <tr>\n",
       "      <th>count</th>\n",
       "      <td>1000.000000</td>\n",
       "      <td>1000.000000</td>\n",
       "      <td>1000.000000</td>\n",
       "      <td>1000.000000</td>\n",
       "      <td>1000.000000</td>\n",
       "      <td>1000.000000</td>\n",
       "      <td>1000.000000</td>\n",
       "    </tr>\n",
       "    <tr>\n",
       "      <th>mean</th>\n",
       "      <td>0.199000</td>\n",
       "      <td>0.726000</td>\n",
       "      <td>0.569000</td>\n",
       "      <td>0.271000</td>\n",
       "      <td>0.105000</td>\n",
       "      <td>0.074000</td>\n",
       "      <td>0.094000</td>\n",
       "    </tr>\n",
       "    <tr>\n",
       "      <th>std</th>\n",
       "      <td>0.399448</td>\n",
       "      <td>0.446232</td>\n",
       "      <td>0.495464</td>\n",
       "      <td>0.444699</td>\n",
       "      <td>0.306707</td>\n",
       "      <td>0.261902</td>\n",
       "      <td>0.291975</td>\n",
       "    </tr>\n",
       "    <tr>\n",
       "      <th>min</th>\n",
       "      <td>0.000000</td>\n",
       "      <td>0.000000</td>\n",
       "      <td>0.000000</td>\n",
       "      <td>0.000000</td>\n",
       "      <td>0.000000</td>\n",
       "      <td>0.000000</td>\n",
       "      <td>0.000000</td>\n",
       "    </tr>\n",
       "    <tr>\n",
       "      <th>25%</th>\n",
       "      <td>0.000000</td>\n",
       "      <td>0.000000</td>\n",
       "      <td>0.000000</td>\n",
       "      <td>0.000000</td>\n",
       "      <td>0.000000</td>\n",
       "      <td>0.000000</td>\n",
       "      <td>0.000000</td>\n",
       "    </tr>\n",
       "    <tr>\n",
       "      <th>50%</th>\n",
       "      <td>0.000000</td>\n",
       "      <td>1.000000</td>\n",
       "      <td>1.000000</td>\n",
       "      <td>0.000000</td>\n",
       "      <td>0.000000</td>\n",
       "      <td>0.000000</td>\n",
       "      <td>0.000000</td>\n",
       "    </tr>\n",
       "    <tr>\n",
       "      <th>75%</th>\n",
       "      <td>0.000000</td>\n",
       "      <td>1.000000</td>\n",
       "      <td>1.000000</td>\n",
       "      <td>1.000000</td>\n",
       "      <td>0.000000</td>\n",
       "      <td>0.000000</td>\n",
       "      <td>0.000000</td>\n",
       "    </tr>\n",
       "    <tr>\n",
       "      <th>max</th>\n",
       "      <td>1.000000</td>\n",
       "      <td>1.000000</td>\n",
       "      <td>1.000000</td>\n",
       "      <td>1.000000</td>\n",
       "      <td>1.000000</td>\n",
       "      <td>1.000000</td>\n",
       "      <td>1.000000</td>\n",
       "    </tr>\n",
       "  </tbody>\n",
       "</table>\n",
       "</div>"
      ],
      "text/plain": [
       "       job__credit_history__class2  status__class1  status__job__class2  \\\n",
       "count                  1000.000000     1000.000000          1000.000000   \n",
       "mean                      0.199000        0.726000             0.569000   \n",
       "std                       0.399448        0.446232             0.495464   \n",
       "min                       0.000000        0.000000             0.000000   \n",
       "25%                       0.000000        0.000000             0.000000   \n",
       "50%                       0.000000        1.000000             1.000000   \n",
       "75%                       0.000000        1.000000             1.000000   \n",
       "max                       1.000000        1.000000             1.000000   \n",
       "\n",
       "       installment_rate__job__class1  savings__installment_rate__class1  \\\n",
       "count                    1000.000000                        1000.000000   \n",
       "mean                        0.271000                           0.105000   \n",
       "std                         0.444699                           0.306707   \n",
       "min                         0.000000                           0.000000   \n",
       "25%                         0.000000                           0.000000   \n",
       "50%                         0.000000                           0.000000   \n",
       "75%                         1.000000                           0.000000   \n",
       "max                         1.000000                           1.000000   \n",
       "\n",
       "       savings__installment_rate__job__class1  \\\n",
       "count                             1000.000000   \n",
       "mean                                 0.074000   \n",
       "std                                  0.261902   \n",
       "min                                  0.000000   \n",
       "25%                                  0.000000   \n",
       "50%                                  0.000000   \n",
       "75%                                  0.000000   \n",
       "max                                  1.000000   \n",
       "\n",
       "       employment_duration__installment_rate__class1  \n",
       "count                                    1000.000000  \n",
       "mean                                        0.094000  \n",
       "std                                         0.291975  \n",
       "min                                         0.000000  \n",
       "25%                                         0.000000  \n",
       "50%                                         0.000000  \n",
       "75%                                         0.000000  \n",
       "max                                         1.000000  "
      ]
     },
     "execution_count": 43,
     "metadata": {},
     "output_type": "execute_result"
    }
   ],
   "source": [
    "synthetic_df.describe()"
   ]
  },
  {
   "cell_type": "code",
   "execution_count": 44,
   "metadata": {},
   "outputs": [
    {
     "data": {
      "text/plain": [
       "0    801\n",
       "1    199\n",
       "Name: job__credit_history__class2, dtype: int64"
      ]
     },
     "execution_count": 44,
     "metadata": {},
     "output_type": "execute_result"
    }
   ],
   "source": [
    "synthetic_df.job__credit_history__class2.value_counts()"
   ]
  },
  {
   "cell_type": "code",
   "execution_count": 45,
   "metadata": {},
   "outputs": [
    {
     "data": {
      "text/plain": [
       "1    726\n",
       "0    274\n",
       "Name: status__class1, dtype: int64"
      ]
     },
     "execution_count": 45,
     "metadata": {},
     "output_type": "execute_result"
    }
   ],
   "source": [
    "synthetic_df.status__class1.value_counts()"
   ]
  },
  {
   "cell_type": "code",
   "execution_count": 46,
   "metadata": {},
   "outputs": [
    {
     "data": {
      "text/plain": [
       "1    569\n",
       "0    431\n",
       "Name: status__job__class2, dtype: int64"
      ]
     },
     "execution_count": 46,
     "metadata": {},
     "output_type": "execute_result"
    }
   ],
   "source": [
    "synthetic_df.status__job__class2.value_counts()"
   ]
  },
  {
   "cell_type": "code",
   "execution_count": 47,
   "metadata": {},
   "outputs": [
    {
     "data": {
      "text/plain": [
       "0    729\n",
       "1    271\n",
       "Name: installment_rate__job__class1, dtype: int64"
      ]
     },
     "execution_count": 47,
     "metadata": {},
     "output_type": "execute_result"
    }
   ],
   "source": [
    "synthetic_df.installment_rate__job__class1.value_counts()"
   ]
  },
  {
   "cell_type": "code",
   "execution_count": 48,
   "metadata": {},
   "outputs": [
    {
     "data": {
      "text/plain": [
       "0    895\n",
       "1    105\n",
       "Name: savings__installment_rate__class1, dtype: int64"
      ]
     },
     "execution_count": 48,
     "metadata": {},
     "output_type": "execute_result"
    }
   ],
   "source": [
    "synthetic_df.savings__installment_rate__class1.value_counts()"
   ]
  },
  {
   "cell_type": "code",
   "execution_count": 49,
   "metadata": {},
   "outputs": [
    {
     "data": {
      "text/plain": [
       "0    926\n",
       "1     74\n",
       "Name: savings__installment_rate__job__class1, dtype: int64"
      ]
     },
     "execution_count": 49,
     "metadata": {},
     "output_type": "execute_result"
    }
   ],
   "source": [
    "synthetic_df.savings__installment_rate__job__class1.value_counts()"
   ]
  },
  {
   "cell_type": "code",
   "execution_count": 50,
   "metadata": {},
   "outputs": [
    {
     "data": {
      "text/plain": [
       "0    906\n",
       "1     94\n",
       "Name: employment_duration__installment_rate__class1, dtype: int64"
      ]
     },
     "execution_count": 50,
     "metadata": {},
     "output_type": "execute_result"
    }
   ],
   "source": [
    "synthetic_df.employment_duration__installment_rate__class1.value_counts()"
   ]
  },
  {
   "cell_type": "code",
   "execution_count": 51,
   "metadata": {},
   "outputs": [
    {
     "data": {
      "image/png": "[encoded data removed]",
      "text/plain": [
       "<Figure size 1500x1200 with 7 Axes>"
      ]
     },
     "metadata": {},
     "output_type": "display_data"
    }
   ],
   "source": [
    "plot_frequencies(synthetic_df, synthetic_df.columns)"
   ]
  },
  {
   "cell_type": "code",
   "execution_count": 52,
   "metadata": {},
   "outputs": [
    {
     "name": "stderr",
     "output_type": "stream",
     "text": [
      "/var/folders/l6/bfk83gm94_x23ld0qfdlhyhh0000gs/T/ipykernel_80462/1185648202.py:1: FutureWarning: The default value of numeric_only in DataFrame.corr is deprecated. In a future version, it will default to False. Select only valid columns or specify the value of numeric_only to silence this warning.\n",
      "  data.corr()\n"
     ]
    },
    {
     "data": {
      "text/html": [
       "<div>\n",
       "<style scoped>\n",
       "    .dataframe tbody tr th:only-of-type {\n",
       "        vertical-align: middle;\n",
       "    }\n",
       "\n",
       "    .dataframe tbody tr th {\n",
       "        vertical-align: top;\n",
       "    }\n",
       "\n",
       "    .dataframe thead th {\n",
       "        text-align: right;\n",
       "    }\n",
       "</style>\n",
       "<table border=\"1\" class=\"dataframe\">\n",
       "  <thead>\n",
       "    <tr style=\"text-align: right;\">\n",
       "      <th></th>\n",
       "      <th>duration</th>\n",
       "      <th>amount</th>\n",
       "      <th>age</th>\n",
       "    </tr>\n",
       "  </thead>\n",
       "  <tbody>\n",
       "    <tr>\n",
       "      <th>duration</th>\n",
       "      <td>1.000000</td>\n",
       "      <td>0.624988</td>\n",
       "      <td>-0.037550</td>\n",
       "    </tr>\n",
       "    <tr>\n",
       "      <th>amount</th>\n",
       "      <td>0.624988</td>\n",
       "      <td>1.000000</td>\n",
       "      <td>0.032273</td>\n",
       "    </tr>\n",
       "    <tr>\n",
       "      <th>age</th>\n",
       "      <td>-0.037550</td>\n",
       "      <td>0.032273</td>\n",
       "      <td>1.000000</td>\n",
       "    </tr>\n",
       "  </tbody>\n",
       "</table>\n",
       "</div>"
      ],
      "text/plain": [
       "          duration    amount       age\n",
       "duration  1.000000  0.624988 -0.037550\n",
       "amount    0.624988  1.000000  0.032273\n",
       "age      -0.037550  0.032273  1.000000"
      ]
     },
     "execution_count": 52,
     "metadata": {},
     "output_type": "execute_result"
    }
   ],
   "source": [
    "data.corr()\n"
   ]
  },
  {
   "cell_type": "code",
   "execution_count": 53,
   "metadata": {},
   "outputs": [],
   "source": [
    "# import pandas_profiling\n",
    "# from pandas_profiling.utils.cache import cache_file\n",
    "# from main_functions import merge_two_subsets\n",
    "\n",
    "# report = data.profile_report(sort=None, html={'style':{'full_width':True}})\n",
    "# synthetic_df.profile_report(sort=None, html={'style':{'full_width':True}})\n",
    "# fullset = merge_two_subsets(data, synthetic_df, 1, False)\n",
    "# fullset.profile_report(sort=None, html={'style':{'full_width':True}})\n"
   ]
  },
  {
   "cell_type": "code",
   "execution_count": 54,
   "metadata": {},
   "outputs": [
    {
     "name": "stderr",
     "output_type": "stream",
     "text": [
      "/Users/victor.lezama/Desktop/DataSciencePortfolio/south-german-credit/main_functions.py:204: FutureWarning: The default value of numeric_only in DataFrame.corr is deprecated. In a future version, it will default to False. Select only valid columns or specify the value of numeric_only to silence this warning.\n",
      "  corr = currDf.corr()\n"
     ]
    },
    {
     "data": {
      "image/png": "[encoded data removed]",
      "text/plain": [
       "<Figure size 1000x800 with 2 Axes>"
      ]
     },
     "metadata": {},
     "output_type": "display_data"
    }
   ],
   "source": [
    "corr_results = plot_correlation_matrix(data, True, 0.5)"
   ]
  },
  {
   "cell_type": "code",
   "execution_count": 55,
   "metadata": {},
   "outputs": [
    {
     "name": "stderr",
     "output_type": "stream",
     "text": [
      "/var/folders/l6/bfk83gm94_x23ld0qfdlhyhh0000gs/T/ipykernel_80462/2627137660.py:1: FutureWarning: The default value of numeric_only in DataFrame.corr is deprecated. In a future version, it will default to False. Select only valid columns or specify the value of numeric_only to silence this warning.\n",
      "  data.corr()\n"
     ]
    },
    {
     "data": {
      "text/html": [
       "<div>\n",
       "<style scoped>\n",
       "    .dataframe tbody tr th:only-of-type {\n",
       "        vertical-align: middle;\n",
       "    }\n",
       "\n",
       "    .dataframe tbody tr th {\n",
       "        vertical-align: top;\n",
       "    }\n",
       "\n",
       "    .dataframe thead th {\n",
       "        text-align: right;\n",
       "    }\n",
       "</style>\n",
       "<table border=\"1\" class=\"dataframe\">\n",
       "  <thead>\n",
       "    <tr style=\"text-align: right;\">\n",
       "      <th></th>\n",
       "      <th>duration</th>\n",
       "      <th>amount</th>\n",
       "      <th>age</th>\n",
       "    </tr>\n",
       "  </thead>\n",
       "  <tbody>\n",
       "    <tr>\n",
       "      <th>duration</th>\n",
       "      <td>1.000000</td>\n",
       "      <td>0.624988</td>\n",
       "      <td>-0.037550</td>\n",
       "    </tr>\n",
       "    <tr>\n",
       "      <th>amount</th>\n",
       "      <td>0.624988</td>\n",
       "      <td>1.000000</td>\n",
       "      <td>0.032273</td>\n",
       "    </tr>\n",
       "    <tr>\n",
       "      <th>age</th>\n",
       "      <td>-0.037550</td>\n",
       "      <td>0.032273</td>\n",
       "      <td>1.000000</td>\n",
       "    </tr>\n",
       "  </tbody>\n",
       "</table>\n",
       "</div>"
      ],
      "text/plain": [
       "          duration    amount       age\n",
       "duration  1.000000  0.624988 -0.037550\n",
       "amount    0.624988  1.000000  0.032273\n",
       "age      -0.037550  0.032273  1.000000"
      ]
     },
     "execution_count": 55,
     "metadata": {},
     "output_type": "execute_result"
    }
   ],
   "source": [
    "data.corr()"
   ]
  },
  {
   "cell_type": "code",
   "execution_count": 56,
   "metadata": {},
   "outputs": [
    {
     "data": {
      "text/html": [
       "<div>\n",
       "<style scoped>\n",
       "    .dataframe tbody tr th:only-of-type {\n",
       "        vertical-align: middle;\n",
       "    }\n",
       "\n",
       "    .dataframe tbody tr th {\n",
       "        vertical-align: top;\n",
       "    }\n",
       "\n",
       "    .dataframe thead th {\n",
       "        text-align: right;\n",
       "    }\n",
       "</style>\n",
       "<table border=\"1\" class=\"dataframe\">\n",
       "  <thead>\n",
       "    <tr style=\"text-align: right;\">\n",
       "      <th></th>\n",
       "      <th>status</th>\n",
       "      <th>duration</th>\n",
       "      <th>credit_history</th>\n",
       "      <th>purpose</th>\n",
       "      <th>amount</th>\n",
       "      <th>savings</th>\n",
       "      <th>employment_duration</th>\n",
       "      <th>installment_rate</th>\n",
       "      <th>personal_status_sex</th>\n",
       "      <th>other_debtors</th>\n",
       "      <th>...</th>\n",
       "      <th>property</th>\n",
       "      <th>age</th>\n",
       "      <th>other_installment_plans</th>\n",
       "      <th>housing</th>\n",
       "      <th>number_credits</th>\n",
       "      <th>job</th>\n",
       "      <th>people_liable</th>\n",
       "      <th>telephone</th>\n",
       "      <th>foreign_worker</th>\n",
       "      <th>credit_risk</th>\n",
       "    </tr>\n",
       "  </thead>\n",
       "  <tbody>\n",
       "    <tr>\n",
       "      <th>0</th>\n",
       "      <td>1</td>\n",
       "      <td>18</td>\n",
       "      <td>4</td>\n",
       "      <td>2</td>\n",
       "      <td>1049.0</td>\n",
       "      <td>1</td>\n",
       "      <td>2</td>\n",
       "      <td>4</td>\n",
       "      <td>2</td>\n",
       "      <td>1</td>\n",
       "      <td>...</td>\n",
       "      <td>2</td>\n",
       "      <td>21</td>\n",
       "      <td>3</td>\n",
       "      <td>1</td>\n",
       "      <td>1</td>\n",
       "      <td>3</td>\n",
       "      <td>2</td>\n",
       "      <td>1</td>\n",
       "      <td>2</td>\n",
       "      <td>1</td>\n",
       "    </tr>\n",
       "    <tr>\n",
       "      <th>1</th>\n",
       "      <td>1</td>\n",
       "      <td>9</td>\n",
       "      <td>4</td>\n",
       "      <td>0</td>\n",
       "      <td>2799.0</td>\n",
       "      <td>1</td>\n",
       "      <td>3</td>\n",
       "      <td>2</td>\n",
       "      <td>3</td>\n",
       "      <td>1</td>\n",
       "      <td>...</td>\n",
       "      <td>1</td>\n",
       "      <td>36</td>\n",
       "      <td>3</td>\n",
       "      <td>1</td>\n",
       "      <td>2</td>\n",
       "      <td>3</td>\n",
       "      <td>1</td>\n",
       "      <td>1</td>\n",
       "      <td>2</td>\n",
       "      <td>1</td>\n",
       "    </tr>\n",
       "    <tr>\n",
       "      <th>2</th>\n",
       "      <td>2</td>\n",
       "      <td>12</td>\n",
       "      <td>2</td>\n",
       "      <td>9</td>\n",
       "      <td>841.0</td>\n",
       "      <td>2</td>\n",
       "      <td>4</td>\n",
       "      <td>2</td>\n",
       "      <td>2</td>\n",
       "      <td>1</td>\n",
       "      <td>...</td>\n",
       "      <td>1</td>\n",
       "      <td>23</td>\n",
       "      <td>3</td>\n",
       "      <td>1</td>\n",
       "      <td>1</td>\n",
       "      <td>2</td>\n",
       "      <td>2</td>\n",
       "      <td>1</td>\n",
       "      <td>2</td>\n",
       "      <td>1</td>\n",
       "    </tr>\n",
       "    <tr>\n",
       "      <th>3</th>\n",
       "      <td>1</td>\n",
       "      <td>12</td>\n",
       "      <td>4</td>\n",
       "      <td>0</td>\n",
       "      <td>2122.0</td>\n",
       "      <td>1</td>\n",
       "      <td>3</td>\n",
       "      <td>3</td>\n",
       "      <td>3</td>\n",
       "      <td>1</td>\n",
       "      <td>...</td>\n",
       "      <td>1</td>\n",
       "      <td>39</td>\n",
       "      <td>3</td>\n",
       "      <td>1</td>\n",
       "      <td>2</td>\n",
       "      <td>2</td>\n",
       "      <td>1</td>\n",
       "      <td>1</td>\n",
       "      <td>1</td>\n",
       "      <td>1</td>\n",
       "    </tr>\n",
       "    <tr>\n",
       "      <th>4</th>\n",
       "      <td>1</td>\n",
       "      <td>12</td>\n",
       "      <td>4</td>\n",
       "      <td>0</td>\n",
       "      <td>2171.0</td>\n",
       "      <td>1</td>\n",
       "      <td>3</td>\n",
       "      <td>4</td>\n",
       "      <td>3</td>\n",
       "      <td>1</td>\n",
       "      <td>...</td>\n",
       "      <td>2</td>\n",
       "      <td>38</td>\n",
       "      <td>1</td>\n",
       "      <td>2</td>\n",
       "      <td>2</td>\n",
       "      <td>2</td>\n",
       "      <td>2</td>\n",
       "      <td>1</td>\n",
       "      <td>1</td>\n",
       "      <td>1</td>\n",
       "    </tr>\n",
       "  </tbody>\n",
       "</table>\n",
       "<p>5 rows × 21 columns</p>\n",
       "</div>"
      ],
      "text/plain": [
       "  status  duration credit_history purpose  amount savings employment_duration  \\\n",
       "0      1        18              4       2  1049.0       1                   2   \n",
       "1      1         9              4       0  2799.0       1                   3   \n",
       "2      2        12              2       9   841.0       2                   4   \n",
       "3      1        12              4       0  2122.0       1                   3   \n",
       "4      1        12              4       0  2171.0       1                   3   \n",
       "\n",
       "  installment_rate personal_status_sex other_debtors  ... property age  \\\n",
       "0                4                   2             1  ...        2  21   \n",
       "1                2                   3             1  ...        1  36   \n",
       "2                2                   2             1  ...        1  23   \n",
       "3                3                   3             1  ...        1  39   \n",
       "4                4                   3             1  ...        2  38   \n",
       "\n",
       "   other_installment_plans housing number_credits job people_liable telephone  \\\n",
       "0                        3       1              1   3             2         1   \n",
       "1                        3       1              2   3             1         1   \n",
       "2                        3       1              1   2             2         1   \n",
       "3                        3       1              2   2             1         1   \n",
       "4                        1       2              2   2             2         1   \n",
       "\n",
       "  foreign_worker credit_risk  \n",
       "0              2           1  \n",
       "1              2           1  \n",
       "2              2           1  \n",
       "3              1           1  \n",
       "4              1           1  \n",
       "\n",
       "[5 rows x 21 columns]"
      ]
     },
     "execution_count": 56,
     "metadata": {},
     "output_type": "execute_result"
    }
   ],
   "source": [
    "data.head()"
   ]
  },
  {
   "cell_type": "code",
   "execution_count": 58,
   "metadata": {},
   "outputs": [
    {
     "data": {
      "text/plain": [
       "{'job_1': {'chi2_statistic': 0.0,\n",
       "  'p_value': 1.0,\n",
       "  'degrees_of_freedom': 1,\n",
       "  'expected_frequencies': array([[293.4,   6.6],\n",
       "         [684.6,  15.4]])},\n",
       " 'job_2': {'chi2_statistic': 0.36458333333333326,\n",
       "  'p_value': 0.5459717226765591,\n",
       "  'degrees_of_freedom': 1,\n",
       "  'expected_frequencies': array([[240.,  60.],\n",
       "         [560., 140.]])},\n",
       " 'job_3': {'chi2_statistic': 0.12767869910727053,\n",
       "  'p_value': 0.7208510894485458,\n",
       "  'degrees_of_freedom': 1,\n",
       "  'expected_frequencies': array([[111., 189.],\n",
       "         [259., 441.]])},\n",
       " 'job_4': {'chi2_statistic': 1.4052029897100318,\n",
       "  'p_value': 0.23585435941881344,\n",
       "  'degrees_of_freedom': 1,\n",
       "  'expected_frequencies': array([[255.6,  44.4],\n",
       "         [596.4, 103.6]])}}"
      ]
     },
     "execution_count": 58,
     "metadata": {},
     "output_type": "execute_result"
    }
   ],
   "source": [
    "dummy_job_data = create_dummy_variables(data, 'job', 'credit_risk')\n",
    "chi_squared_test(dummy_job_data, 'credit_risk_1')"
   ]
  },
  {
   "attachments": {},
   "cell_type": "markdown",
   "metadata": {},
   "source": [
    "No se encontraron resultados significativos"
   ]
  },
  {
   "attachments": {},
   "cell_type": "markdown",
   "metadata": {},
   "source": [
    "filter_data_by_value(data, 'job', 'credit_risk', )"
   ]
  },
  {
   "cell_type": "code",
   "execution_count": 59,
   "metadata": {},
   "outputs": [
    {
     "data": {
      "text/plain": [
       "{'purpose_0': {'chi2_statistic': 8.89689075067665,\n",
       "  'p_value': 0.002856566553748428,\n",
       "  'degrees_of_freedom': 1,\n",
       "  'expected_frequencies': array([[229.8,  70.2],\n",
       "         [536.2, 163.8]])},\n",
       " 'purpose_1': {'chi2_statistic': 9.25466353917177,\n",
       "  'p_value': 0.002348964871210314,\n",
       "  'degrees_of_freedom': 1,\n",
       "  'expected_frequencies': array([[269.1,  30.9],\n",
       "         [627.9,  72.1]])},\n",
       " 'purpose_10': {'chi2_statistic': 0.3253325621746673,\n",
       "  'p_value': 0.5684204565098252,\n",
       "  'degrees_of_freedom': 1,\n",
       "  'expected_frequencies': array([[296.4,   3.6],\n",
       "         [691.6,   8.4]])},\n",
       " 'purpose_2': {'chi2_statistic': 0.32894113399243696,\n",
       "  'p_value': 0.5662832529305258,\n",
       "  'degrees_of_freedom': 1,\n",
       "  'expected_frequencies': array([[245.7,  54.3],\n",
       "         [573.3, 126.7]])},\n",
       " 'purpose_3': {'chi2_statistic': 10.918603552532124,\n",
       "  'p_value': 0.0009520334593322895,\n",
       "  'degrees_of_freedom': 1,\n",
       "  'expected_frequencies': array([[216.,  84.],\n",
       "         [504., 196.]])},\n",
       " 'purpose_4': {'chi2_statistic': 0.0,\n",
       "  'p_value': 1.0,\n",
       "  'degrees_of_freedom': 1,\n",
       "  'expected_frequencies': array([[296.4,   3.6],\n",
       "         [691.6,   8.4]])},\n",
       " 'purpose_5': {'chi2_statistic': 0.17926858417655958,\n",
       "  'p_value': 0.67200256260362,\n",
       "  'degrees_of_freedom': 1,\n",
       "  'expected_frequencies': array([[293.4,   6.6],\n",
       "         [684.6,  15.4]])},\n",
       " 'purpose_6': {'chi2_statistic': 4.235588972431078,\n",
       "  'p_value': 0.039584886942432625,\n",
       "  'degrees_of_freedom': 1,\n",
       "  'expected_frequencies': array([[285.,  15.],\n",
       "         [665.,  35.]])},\n",
       " 'purpose_8': {'chi2_statistic': 0.7688241795204462,\n",
       "  'p_value': 0.38058104774935475,\n",
       "  'degrees_of_freedom': 1,\n",
       "  'expected_frequencies': array([[297.3,   2.7],\n",
       "         [693.7,   6.3]])},\n",
       " 'purpose_9': {'chi2_statistic': 1.0525108309127207,\n",
       "  'p_value': 0.30492952785971544,\n",
       "  'degrees_of_freedom': 1,\n",
       "  'expected_frequencies': array([[270.9,  29.1],\n",
       "         [632.1,  67.9]])}}"
      ]
     },
     "execution_count": 59,
     "metadata": {},
     "output_type": "execute_result"
    }
   ],
   "source": [
    "dummy_purpose_data = create_dummy_variables(data, 'purpose', 'credit_risk')\n",
    "chi_squared_test(dummy_purpose_data, 'credit_risk_1')"
   ]
  },
  {
   "attachments": {},
   "cell_type": "markdown",
   "metadata": {},
   "source": [
    "Columnas con relación significativa:\n",
    "\n",
    "purpose_0\n",
    "\n",
    "purpose_1\n",
    "\n",
    "purpose_3\n",
    "\n",
    "purpose_6"
   ]
  },
  {
   "cell_type": "code",
   "execution_count": 60,
   "metadata": {},
   "outputs": [],
   "source": [
    "purpose_0_dataset = filter_data_by_value(data, 'purpose', 'credit_risk', '0')\n",
    "purpose_1_dataset = filter_data_by_value(data, 'purpose', 'credit_risk', '1')\n",
    "purpose_3_dataset = filter_data_by_value(data, 'purpose', 'credit_risk', '3')\n",
    "purpose_6_dataset = filter_data_by_value(data, 'purpose', 'credit_risk', '6')"
   ]
  },
  {
   "cell_type": "code",
   "execution_count": 61,
   "metadata": {},
   "outputs": [
    {
     "data": {
      "text/plain": [
       "{'credit_history_0': {'chi2_statistic': 19.37624007936508,\n",
       "  'p_value': 1.073341892470815e-05,\n",
       "  'degrees_of_freedom': 1,\n",
       "  'expected_frequencies': array([[288.,  12.],\n",
       "         [672.,  28.]])},\n",
       " 'credit_history_1': {'chi2_statistic': 16.742644181001225,\n",
       "  'p_value': 4.280790428706077e-05,\n",
       "  'degrees_of_freedom': 1,\n",
       "  'expected_frequencies': array([[285.3,  14.7],\n",
       "         [665.7,  34.3]])},\n",
       " 'credit_history_2': {'chi2_statistic': 1.7252585498269963,\n",
       "  'p_value': 0.18901755896476705,\n",
       "  'degrees_of_freedom': 1,\n",
       "  'expected_frequencies': array([[141., 159.],\n",
       "         [329., 371.]])},\n",
       " 'credit_history_3': {'chi2_statistic': 0.07179406850459524,\n",
       "  'p_value': 0.7887423075813524,\n",
       "  'degrees_of_freedom': 1,\n",
       "  'expected_frequencies': array([[273.6,  26.4],\n",
       "         [638.4,  61.6]])},\n",
       " 'credit_history_4': {'chi2_statistic': 32.154138308586035,\n",
       "  'p_value': 1.42413027988845e-08,\n",
       "  'degrees_of_freedom': 1,\n",
       "  'expected_frequencies': array([[212.1,  87.9],\n",
       "         [494.9, 205.1]])}}"
      ]
     },
     "execution_count": 61,
     "metadata": {},
     "output_type": "execute_result"
    }
   ],
   "source": [
    "dummy_credit_history_data = create_dummy_variables(data, 'credit_history', 'credit_risk')\n",
    "chi_squared_test(dummy_credit_history_data, 'credit_risk_1')"
   ]
  },
  {
   "cell_type": "code",
   "execution_count": 62,
   "metadata": {},
   "outputs": [],
   "source": [
    "credit_history_0_dataset = filter_data_by_value(data, 'credit_history', 'credit_risk', '0')\n",
    "credit_history_1_dataset = filter_data_by_value(data, 'credit_history', 'credit_risk', '1')\n",
    "credit_history_4_dataset = filter_data_by_value(data, 'credit_history', 'credit_risk', '4')"
   ]
  },
  {
   "cell_type": "code",
   "execution_count": 66,
   "metadata": {},
   "outputs": [
    {
     "data": {
      "text/plain": [
       "{'status_1': {'chi2_statistic': 65.47822523270433,\n",
       "  'p_value': 5.875962249780948e-16,\n",
       "  'degrees_of_freedom': 1,\n",
       "  'expected_frequencies': array([[217.8,  82.2],\n",
       "         [508.2, 191.8]])},\n",
       " 'status_2': {'chi2_statistic': 13.717183942825857,\n",
       "  'p_value': 0.00021250124875290776,\n",
       "  'degrees_of_freedom': 1,\n",
       "  'expected_frequencies': array([[219.3,  80.7],\n",
       "         [511.7, 188.3]])},\n",
       " 'status_3': {'chi2_statistic': 1.5617298739725922,\n",
       "  'p_value': 0.21141211312671457,\n",
       "  'degrees_of_freedom': 1,\n",
       "  'expected_frequencies': array([[281.1,  18.9],\n",
       "         [655.9,  44.1]])},\n",
       " 'status_4': {'chi2_statistic': 102.52981425771291,\n",
       "  'p_value': 4.2492427145380535e-24,\n",
       "  'degrees_of_freedom': 1,\n",
       "  'expected_frequencies': array([[181.8, 118.2],\n",
       "         [424.2, 275.8]])}}"
      ]
     },
     "execution_count": 66,
     "metadata": {},
     "output_type": "execute_result"
    }
   ],
   "source": [
    "dummy_status_data = create_dummy_variables(data, 'status', 'credit_risk')\n",
    "chi_squared_test(dummy_status_data, 'credit_risk_1')"
   ]
  },
  {
   "cell_type": "code",
   "execution_count": 67,
   "metadata": {},
   "outputs": [],
   "source": [
    "status_1_dataset = filter_data_by_value(data, 'status', 'credit_risk', '1')\n",
    "status_3_dataset = filter_data_by_value(data, 'status', 'credit_risk', '3')\n",
    "status_4_dataset = filter_data_by_value(data, 'status', 'credit_risk', '4')"
   ]
  },
  {
   "cell_type": "code",
   "execution_count": 72,
   "metadata": {},
   "outputs": [
    {
     "data": {
      "text/plain": [
       "{'savings_1': {'chi2_statistic': 25.210002126427565,\n",
       "  'p_value': 5.141485805926421e-07,\n",
       "  'degrees_of_freedom': 1,\n",
       "  'expected_frequencies': array([[119.1, 180.9],\n",
       "         [277.9, 422.1]])},\n",
       " 'savings_2': {'chi2_statistic': 0.34841571354868156,\n",
       "  'p_value': 0.5550113291454761,\n",
       "  'degrees_of_freedom': 1,\n",
       "  'expected_frequencies': array([[269.1,  30.9],\n",
       "         [627.9,  72.1]])},\n",
       " 'savings_3': {'chi2_statistic': 4.417372308819172,\n",
       "  'p_value': 0.035574779851583395,\n",
       "  'degrees_of_freedom': 1,\n",
       "  'expected_frequencies': array([[281.1,  18.9],\n",
       "         [655.9,  44.1]])},\n",
       " 'savings_4': {'chi2_statistic': 6.5036431239162305,\n",
       "  'p_value': 0.010765368497813614,\n",
       "  'degrees_of_freedom': 1,\n",
       "  'expected_frequencies': array([[285.6,  14.4],\n",
       "         [666.4,  33.6]])},\n",
       " 'savings_5': {'chi2_statistic': 15.980986906203112,\n",
       "  'p_value': 6.398183893417964e-05,\n",
       "  'degrees_of_freedom': 1,\n",
       "  'expected_frequencies': array([[245.1,  54.9],\n",
       "         [571.9, 128.1]])}}"
      ]
     },
     "execution_count": 72,
     "metadata": {},
     "output_type": "execute_result"
    }
   ],
   "source": [
    "dummy_savings_data = create_dummy_variables(data, 'savings', 'credit_risk')\n",
    "chi_squared_test(dummy_savings_data, 'credit_risk_1')"
   ]
  },
  {
   "cell_type": "code",
   "execution_count": 73,
   "metadata": {},
   "outputs": [],
   "source": [
    "savings_1_dataset = filter_data_by_value(data, 'savings', 'credit_risk', '1')\n",
    "savings_3_dataset = filter_data_by_value(data, 'savings', 'credit_risk', '3')\n",
    "savings_4_dataset = filter_data_by_value(data, 'savings', 'credit_risk', '4')\n",
    "savings_5_dataset = filter_data_by_value(data, 'savings', 'credit_risk', '5')"
   ]
  },
  {
   "cell_type": "code",
   "execution_count": 74,
   "metadata": {},
   "outputs": [
    {
     "data": {
      "text/plain": [
       "{'personal_status_sex_1': {'chi2_statistic': 2.030075187969925,\n",
       "  'p_value': 0.1542129779461507,\n",
       "  'degrees_of_freedom': 1,\n",
       "  'expected_frequencies': array([[285.,  15.],\n",
       "         [665.,  35.]])},\n",
       " 'personal_status_sex_2': {'chi2_statistic': 5.348516218081436,\n",
       "  'p_value': 0.020739913068713305,\n",
       "  'degrees_of_freedom': 1,\n",
       "  'expected_frequencies': array([[207.,  93.],\n",
       "         [483., 217.]])},\n",
       " 'personal_status_sex_3': {'chi2_statistic': 6.159816487799175,\n",
       "  'p_value': 0.013068476586913557,\n",
       "  'degrees_of_freedom': 1,\n",
       "  'expected_frequencies': array([[135.6, 164.4],\n",
       "         [316.4, 383.6]])},\n",
       " 'personal_status_sex_4': {'chi2_statistic': 0.25138862286918245,\n",
       "  'p_value': 0.6160989982564875,\n",
       "  'degrees_of_freedom': 1,\n",
       "  'expected_frequencies': array([[272.4,  27.6],\n",
       "         [635.6,  64.4]])}}"
      ]
     },
     "execution_count": 74,
     "metadata": {},
     "output_type": "execute_result"
    }
   ],
   "source": [
    "dummy_personal_status_sex_data = create_dummy_variables(data, 'personal_status_sex', 'credit_risk')\n",
    "chi_squared_test(dummy_personal_status_sex_data, 'credit_risk_1')"
   ]
  },
  {
   "cell_type": "code",
   "execution_count": 75,
   "metadata": {},
   "outputs": [],
   "source": [
    "personal_status_sex_2_dataset = filter_data_by_value(data, 'personal_status_sex', 'credit_risk', '2')\n",
    "personal_status_sex_3_dataset = filter_data_by_value(data, 'personal_status_sex', 'credit_risk', '3')"
   ]
  },
  {
   "cell_type": "code",
   "execution_count": 76,
   "metadata": {},
   "outputs": [
    {
     "data": {
      "text/plain": [
       "{'other_debtors_1': {'chi2_statistic': 0.0,\n",
       "  'p_value': 1.0,\n",
       "  'degrees_of_freedom': 1,\n",
       "  'expected_frequencies': array([[ 27.9, 272.1],\n",
       "         [ 65.1, 634.9]])},\n",
       " 'other_debtors_2': {'chi2_statistic': 3.2748011079097825,\n",
       "  'p_value': 0.0703514534965371,\n",
       "  'degrees_of_freedom': 1,\n",
       "  'expected_frequencies': array([[287.7,  12.3],\n",
       "         [671.3,  28.7]])},\n",
       " 'other_debtors_3': {'chi2_statistic': 2.5125191264431783,\n",
       "  'p_value': 0.11294525539005033,\n",
       "  'degrees_of_freedom': 1,\n",
       "  'expected_frequencies': array([[284.4,  15.6],\n",
       "         [663.6,  36.4]])}}"
      ]
     },
     "execution_count": 76,
     "metadata": {},
     "output_type": "execute_result"
    }
   ],
   "source": [
    "dummy_other_debtors_data = create_dummy_variables(data, 'other_debtors', 'credit_risk')\n",
    "chi_squared_test(dummy_other_debtors_data, 'credit_risk_1')"
   ]
  },
  {
   "attachments": {},
   "cell_type": "markdown",
   "metadata": {},
   "source": [
    "Nada significativo"
   ]
  },
  {
   "cell_type": "code",
   "execution_count": 78,
   "metadata": {},
   "outputs": [
    {
     "data": {
      "text/plain": [
       "{'other_installment_plans_1': {'chi2_statistic': 8.715377125875204,\n",
       "  'p_value': 0.0031553713868776602,\n",
       "  'degrees_of_freedom': 1,\n",
       "  'expected_frequencies': array([[258.3,  41.7],\n",
       "         [602.7,  97.3]])},\n",
       " 'other_installment_plans_2': {'chi2_statistic': 2.0582366142858195,\n",
       "  'p_value': 0.15138526991472956,\n",
       "  'degrees_of_freedom': 1,\n",
       "  'expected_frequencies': array([[285.9,  14.1],\n",
       "         [667.1,  32.9]])},\n",
       " 'other_installment_plans_3': {'chi2_statistic': 12.206068657681563,\n",
       "  'p_value': 0.0004763430798236819,\n",
       "  'degrees_of_freedom': 1,\n",
       "  'expected_frequencies': array([[ 55.8, 244.2],\n",
       "         [130.2, 569.8]])}}"
      ]
     },
     "execution_count": 78,
     "metadata": {},
     "output_type": "execute_result"
    }
   ],
   "source": [
    "dummy_other_installment_plans_data = create_dummy_variables(data, 'other_installment_plans', 'credit_risk')\n",
    "chi_squared_test(dummy_other_installment_plans_data, 'credit_risk_1')"
   ]
  },
  {
   "cell_type": "code",
   "execution_count": 79,
   "metadata": {},
   "outputs": [],
   "source": [
    "other_installment_plans_1_dataset = filter_data_by_value(data, 'other_installment_plans', 'credit_risk', '1')\n",
    "other_installment_plans_3_dataset = filter_data_by_value(data, 'other_installment_plans', 'credit_risk', '3')"
   ]
  },
  {
   "cell_type": "code",
   "execution_count": 80,
   "metadata": {},
   "outputs": [
    {
     "data": {
      "text/plain": [
       "{'housing_1': {'chi2_statistic': 8.089071814328515,\n",
       "  'p_value': 0.004453296372143891,\n",
       "  'degrees_of_freedom': 1,\n",
       "  'expected_frequencies': array([[246.3,  53.7],\n",
       "         [574.7, 125.3]])},\n",
       " 'housing_2': {'chi2_statistic': 17.89270486749478,\n",
       "  'p_value': 2.3371527415665896e-05,\n",
       "  'degrees_of_freedom': 1,\n",
       "  'expected_frequencies': array([[ 85.8, 214.2],\n",
       "         [200.2, 499.8]])},\n",
       " 'housing_3': {'chi2_statistic': 6.476720734028348,\n",
       "  'p_value': 0.010929644703597134,\n",
       "  'degrees_of_freedom': 1,\n",
       "  'expected_frequencies': array([[267.9,  32.1],\n",
       "         [625.1,  74.9]])}}"
      ]
     },
     "execution_count": 80,
     "metadata": {},
     "output_type": "execute_result"
    }
   ],
   "source": [
    "dummy_housing_data = create_dummy_variables(data, 'housing', 'credit_risk')\n",
    "chi_squared_test(dummy_housing_data, 'credit_risk_1')"
   ]
  },
  {
   "attachments": {},
   "cell_type": "markdown",
   "metadata": {},
   "source": [
    "Todas las variables fueron significativas. Se postula como candidata a variable predictora"
   ]
  },
  {
   "cell_type": "code",
   "execution_count": 81,
   "metadata": {},
   "outputs": [],
   "source": [
    "housing_1_dataset = filter_data_by_value(data, 'housing', 'credit_risk', '1')\n",
    "housing_2_dataset = filter_data_by_value(data, 'housing', 'credit_risk', '2')\n",
    "housing_3_dataset = filter_data_by_value(data, 'housing', 'credit_risk', '3')"
   ]
  },
  {
   "cell_type": "code",
   "execution_count": 82,
   "metadata": {},
   "outputs": [
    {
     "data": {
      "text/plain": [
       "{'foreign_worker_1': {'chi2_statistic': 5.821575915033861,\n",
       "  'p_value': 0.015830754902852885,\n",
       "  'degrees_of_freedom': 1,\n",
       "  'expected_frequencies': array([[288.9,  11.1],\n",
       "         [674.1,  25.9]])},\n",
       " 'foreign_worker_2': {'chi2_statistic': 5.821575915033861,\n",
       "  'p_value': 0.015830754902852885,\n",
       "  'degrees_of_freedom': 1,\n",
       "  'expected_frequencies': array([[ 11.1, 288.9],\n",
       "         [ 25.9, 674.1]])}}"
      ]
     },
     "execution_count": 82,
     "metadata": {},
     "output_type": "execute_result"
    }
   ],
   "source": [
    "dummy_foreign_worker_data = create_dummy_variables(data, 'foreign_worker', 'credit_risk')\n",
    "chi_squared_test(dummy_foreign_worker_data, 'credit_risk_1')"
   ]
  },
  {
   "cell_type": "code",
   "execution_count": 83,
   "metadata": {},
   "outputs": [],
   "source": [
    "foreign_worker_1_dataset = filter_data_by_value(data, 'foreign_worker', 'credit_risk', '1')\n",
    "foreign_worker_2_dataset = filter_data_by_value(data, 'foreign_worker', 'credit_risk', '2')"
   ]
  },
  {
   "cell_type": "code",
   "execution_count": 84,
   "metadata": {},
   "outputs": [
    {
     "data": {
      "text/plain": [
       "{'people_liable_1': {'chi2_statistic': 0.0,\n",
       "  'p_value': 1.0,\n",
       "  'degrees_of_freedom': 1,\n",
       "  'expected_frequencies': array([[253.5,  46.5],\n",
       "         [591.5, 108.5]])},\n",
       " 'people_liable_2': {'chi2_statistic': 0.0,\n",
       "  'p_value': 1.0,\n",
       "  'degrees_of_freedom': 1,\n",
       "  'expected_frequencies': array([[ 46.5, 253.5],\n",
       "         [108.5, 591.5]])}}"
      ]
     },
     "execution_count": 84,
     "metadata": {},
     "output_type": "execute_result"
    }
   ],
   "source": [
    "dummy_people_liable_data = create_dummy_variables(data, 'people_liable', 'credit_risk')\n",
    "chi_squared_test(dummy_people_liable_data, 'credit_risk_1')"
   ]
  },
  {
   "attachments": {},
   "cell_type": "markdown",
   "metadata": {},
   "source": [
    "Nada significativo"
   ]
  },
  {
   "cell_type": "code",
   "execution_count": 85,
   "metadata": {},
   "outputs": [
    {
     "data": {
      "text/plain": [
       "{'number_credits_1': {'chi2_statistic': 1.8890932536864082,\n",
       "  'p_value': 0.16930422910258336,\n",
       "  'degrees_of_freedom': 1,\n",
       "  'expected_frequencies': array([[110.1, 189.9],\n",
       "         [256.9, 443.1]])},\n",
       " 'number_credits_2': {'chi2_statistic': 1.1740161665199154,\n",
       "  'p_value': 0.27857756053181204,\n",
       "  'degrees_of_freedom': 1,\n",
       "  'expected_frequencies': array([[200.1,  99.9],\n",
       "         [466.9, 233.1]])},\n",
       " 'number_credits_3': {'chi2_statistic': 0.6316312533243744,\n",
       "  'p_value': 0.426757590134623,\n",
       "  'degrees_of_freedom': 1,\n",
       "  'expected_frequencies': array([[291.6,   8.4],\n",
       "         [680.4,  19.6]])},\n",
       " 'number_credits_4': {'chi2_statistic': 0.0,\n",
       "  'p_value': 1.0,\n",
       "  'degrees_of_freedom': 1,\n",
       "  'expected_frequencies': array([[298.2,   1.8],\n",
       "         [695.8,   4.2]])}}"
      ]
     },
     "execution_count": 85,
     "metadata": {},
     "output_type": "execute_result"
    }
   ],
   "source": [
    "dummy_number_credits_data = create_dummy_variables(data, 'number_credits', 'credit_risk')\n",
    "chi_squared_test(dummy_number_credits_data, 'credit_risk_1')"
   ]
  },
  {
   "attachments": {},
   "cell_type": "markdown",
   "metadata": {},
   "source": [
    "Nada significativo"
   ]
  },
  {
   "cell_type": "code",
   "execution_count": 86,
   "metadata": {},
   "outputs": [
    {
     "data": {
      "text/plain": [
       "{'telephone_1': {'chi2_statistic': 1.1725585310208857,\n",
       "  'p_value': 0.2788761543035742,\n",
       "  'degrees_of_freedom': 1,\n",
       "  'expected_frequencies': array([[121.2, 178.8],\n",
       "         [282.8, 417.2]])},\n",
       " 'telephone_2': {'chi2_statistic': 1.1725585310208857,\n",
       "  'p_value': 0.2788761543035742,\n",
       "  'degrees_of_freedom': 1,\n",
       "  'expected_frequencies': array([[178.8, 121.2],\n",
       "         [417.2, 282.8]])}}"
      ]
     },
     "execution_count": 86,
     "metadata": {},
     "output_type": "execute_result"
    }
   ],
   "source": [
    "dummy_telephone_data = create_dummy_variables(data, 'telephone', 'credit_risk')\n",
    "chi_squared_test(dummy_telephone_data, 'credit_risk_1')"
   ]
  },
  {
   "attachments": {},
   "cell_type": "markdown",
   "metadata": {},
   "source": [
    "Nada significativo"
   ]
  },
  {
   "cell_type": "code",
   "execution_count": 87,
   "metadata": {},
   "outputs": [
    {
     "data": {
      "text/plain": [
       "Index(['status', 'duration', 'credit_history', 'purpose', 'amount', 'savings',\n",
       "       'employment_duration', 'installment_rate', 'personal_status_sex',\n",
       "       'other_debtors', 'present_residence', 'property', 'age',\n",
       "       'other_installment_plans', 'housing', 'number_credits', 'job',\n",
       "       'people_liable', 'telephone', 'foreign_worker', 'credit_risk'],\n",
       "      dtype='object')"
      ]
     },
     "execution_count": 87,
     "metadata": {},
     "output_type": "execute_result"
    }
   ],
   "source": [
    "data.columns"
   ]
  },
  {
   "cell_type": "code",
   "execution_count": 88,
   "metadata": {},
   "outputs": [
    {
     "data": {
      "text/plain": [
       "{'employment_duration_1': {'chi2_statistic': 1.2454187259882268,\n",
       "  'p_value': 0.26442928305768953,\n",
       "  'degrees_of_freedom': 1,\n",
       "  'expected_frequencies': array([[281.4,  18.6],\n",
       "         [656.6,  43.4]])},\n",
       " 'employment_duration_2': {'chi2_statistic': 10.713416363062471,\n",
       "  'p_value': 0.001063614548121684,\n",
       "  'degrees_of_freedom': 1,\n",
       "  'expected_frequencies': array([[248.4,  51.6],\n",
       "         [579.6, 120.4]])},\n",
       " 'employment_duration_3': {'chi2_statistic': 0.06885326794823035,\n",
       "  'p_value': 0.7930137954605981,\n",
       "  'degrees_of_freedom': 1,\n",
       "  'expected_frequencies': array([[198.3, 101.7],\n",
       "         [462.7, 237.3]])},\n",
       " 'employment_duration_4': {'chi2_statistic': 5.3439065086389155,\n",
       "  'p_value': 0.02079482233625889,\n",
       "  'degrees_of_freedom': 1,\n",
       "  'expected_frequencies': array([[247.8,  52.2],\n",
       "         [578.2, 121.8]])},\n",
       " 'employment_duration_5': {'chi2_statistic': 3.2745323473453403,\n",
       "  'p_value': 0.07036297760169107,\n",
       "  'degrees_of_freedom': 1,\n",
       "  'expected_frequencies': array([[224.1,  75.9],\n",
       "         [522.9, 177.1]])}}"
      ]
     },
     "execution_count": 88,
     "metadata": {},
     "output_type": "execute_result"
    }
   ],
   "source": [
    "dummy_employment_duration_data = create_dummy_variables(data, 'employment_duration', 'credit_risk')\n",
    "chi_squared_test(dummy_employment_duration_data, 'credit_risk_1')"
   ]
  },
  {
   "cell_type": "code",
   "execution_count": 89,
   "metadata": {},
   "outputs": [],
   "source": [
    "employment_duration_2_dataset = filter_data_by_value(data, 'employment_duration', 'credit_risk', '2')\n",
    "employment_duration_4_dataset = filter_data_by_value(data, 'employment_duration', 'credit_risk', '4')"
   ]
  },
  {
   "cell_type": "code",
   "execution_count": 90,
   "metadata": {},
   "outputs": [
    {
     "data": {
      "text/plain": [
       "{'installment_rate_1': {'chi2_statistic': 1.6084558823529396,\n",
       "  'p_value': 0.20470899333883372,\n",
       "  'degrees_of_freedom': 1,\n",
       "  'expected_frequencies': array([[259.2,  40.8],\n",
       "         [604.8,  95.2]])},\n",
       " 'installment_rate_2': {'chi2_statistic': 1.239539043737446,\n",
       "  'p_value': 0.2655599098280993,\n",
       "  'degrees_of_freedom': 1,\n",
       "  'expected_frequencies': array([[230.7,  69.3],\n",
       "         [538.3, 161.7]])},\n",
       " 'installment_rate_3': {'chi2_statistic': 0.09210717101099491,\n",
       "  'p_value': 0.761515223249108,\n",
       "  'degrees_of_freedom': 1,\n",
       "  'expected_frequencies': array([[252.9,  47.1],\n",
       "         [590.1, 109.9]])},\n",
       " 'installment_rate_4': {'chi2_statistic': 4.705889989583612,\n",
       "  'p_value': 0.03005943434926282,\n",
       "  'degrees_of_freedom': 1,\n",
       "  'expected_frequencies': array([[157.2, 142.8],\n",
       "         [366.8, 333.2]])}}"
      ]
     },
     "execution_count": 90,
     "metadata": {},
     "output_type": "execute_result"
    }
   ],
   "source": [
    "dummy_installment_rate_data = create_dummy_variables(data, 'installment_rate', 'credit_risk')\n",
    "chi_squared_test(dummy_installment_rate_data, 'credit_risk_1')"
   ]
  },
  {
   "cell_type": "code",
   "execution_count": 91,
   "metadata": {},
   "outputs": [],
   "source": [
    "installment_rate_4_dataset = filter_data_by_value(data, 'installment_rate', 'credit_risk', '4')\n"
   ]
  },
  {
   "cell_type": "code",
   "execution_count": 92,
   "metadata": {},
   "outputs": [
    {
     "data": {
      "text/plain": [
       "{'present_residence_1': {'chi2_statistic': 0.2631468148709528,\n",
       "  'p_value': 0.6079664465429023,\n",
       "  'degrees_of_freedom': 1,\n",
       "  'expected_frequencies': array([[261.,  39.],\n",
       "         [609.,  91.]])},\n",
       " 'present_residence_2': {'chi2_statistic': 0.3755706171065373,\n",
       "  'p_value': 0.5399833524610413,\n",
       "  'degrees_of_freedom': 1,\n",
       "  'expected_frequencies': array([[207.6,  92.4],\n",
       "         [484.4, 215.6]])},\n",
       " 'present_residence_3': {'chi2_statistic': 0.05407884018914103,\n",
       "  'p_value': 0.8161119629321525,\n",
       "  'degrees_of_freedom': 1,\n",
       "  'expected_frequencies': array([[255.3,  44.7],\n",
       "         [595.7, 104.3]])},\n",
       " 'present_residence_4': {'chi2_statistic': 0.0,\n",
       "  'p_value': 1.0,\n",
       "  'degrees_of_freedom': 1,\n",
       "  'expected_frequencies': array([[176.1, 123.9],\n",
       "         [410.9, 289.1]])}}"
      ]
     },
     "execution_count": 92,
     "metadata": {},
     "output_type": "execute_result"
    }
   ],
   "source": [
    "dummy_present_residence_data = create_dummy_variables(data, 'present_residence', 'credit_risk')\n",
    "chi_squared_test(dummy_present_residence_data, 'credit_risk_1')"
   ]
  },
  {
   "attachments": {},
   "cell_type": "markdown",
   "metadata": {},
   "source": [
    "Nada significativo"
   ]
  }
 ],
 "metadata": {
  "kernelspec": {
   "display_name": "south-german-credit",
   "language": "python",
   "name": "python3"
  },
  "language_info": {
   "codemirror_mode": {
    "name": "ipython",
    "version": 3
   },
   "file_extension": ".py",
   "mimetype": "text/x-python",
   "name": "python",
   "nbconvert_exporter": "python",
   "pygments_lexer": "ipython3",
   "version": "3.9.20"
  },
  "orig_nbformat": 4
 },
 "nbformat": 4,
 "nbformat_minor": 2
}
